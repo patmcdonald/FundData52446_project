{
 "cells": [
  {
   "cell_type": "markdown",
   "metadata": {},
   "source": [
    "### Fundamentals of Data Analysis project 2018\n",
    "\n",
    "### Patrick McDonald G00281051\n",
    "\n",
    "#### Problem statement\n",
    "\n",
    "The box plot is common in data analysis for investigating individual numerical variables. In this project, you will investigate and explain box plots and their uses. The boxplot function from the Python package matplotlib.pyplot can be used to create box plots. Your submission should be in the form of a repository containing a Jupyter notebook in which you detail your findings. In your notebook, you should:\n",
    "\n",
    "1. Summarise the history of the box plot and situations in which it used.\n",
    "2. Demonstrate the use of the box plot using data of your choosing.\n",
    "3. Explain any relevant terminology such as the terms quartile and percentile. \n",
    "4. Compare the box plot to alternatives.\n"
   ]
  },
  {
   "cell_type": "markdown",
   "metadata": {},
   "source": [
    "#### 1. Summarise the history of the box plot and situations in which it used\n",
    "\n",
    "The [boxplot](https://en.wikipedia.org/wiki/Box_plot) or \"box and whisker plot\", was first introduced by the American mathematician [John W.Tukey](https://en.wikipedia.org/wiki/John_Tukey) in 1969. Tukey defined the phrase \"Exploratory Data Analysis\". The main strenght of the box plot is that it allows us to make a quick graphical examination of statisical data in graph form.\n",
    "\n",
    "Quartiles\n",
    "\n",
    "Whiskers, Outliers\n",
    "\n",
    "Tukey 1969"
   ]
  },
  {
   "cell_type": "markdown",
   "metadata": {},
   "source": [
    "#### 2. Demonstrate the use of the box plot using data of your choosing.\n",
    "\n",
    "Using matplotlib.boxplot, What data to use? M6 Weather Bouy data from Marine Institute."
   ]
  },
  {
   "cell_type": "markdown",
   "metadata": {},
   "source": [
    "In demonstrating the use of the box plot, I shall revisit Fishers [Iris Dataset](https://archive.ics.uci.edu/ml/machine-learning-databases/iris/iris.data) from earlier in this course."
   ]
  },
  {
   "cell_type": "code",
   "execution_count": 6,
   "metadata": {},
   "outputs": [],
   "source": [
    "# Import python packages\n",
    "%matplotlib inline\n",
    "import matplotlib.pyplot as pl\n",
    "import numpy as np\n",
    "\n",
    "\n",
    "#Import dataset from local repository\n",
    "iris = pd.read_csv('irisdataset.csv')"
   ]
  },
  {
   "cell_type": "markdown",
   "metadata": {},
   "source": [
    "#### 3. Explain any relevant terminology such as the terms quartile and percentile.\n",
    "\n",
    "Quartile, percentile.\n",
    "\n",
    "Whiskers, Outliers"
   ]
  },
  {
   "cell_type": "markdown",
   "metadata": {},
   "source": [
    "#### 4. Compare the box plot to alternatives."
   ]
  },
  {
   "cell_type": "markdown",
   "metadata": {},
   "source": [
    "#### Sources\n",
    "\n",
    "* https://matplotlib.org/api/_as_gen/matplotlib.pyplot.boxplot.html\n",
    "* http://python-graph-gallery.com/boxplot/\n",
    "* https://www.statmethods.net/graphs/boxplot.html\n",
    "* http://mathworld.wolfram.com/Box-and-WhiskerPlot.html\n",
    "* https://www.tutorialspoint.com/python/python_box_plots.htm\n",
    "* https://en.wikipedia.org/wiki/John_Tukey\n",
    "* https://en.wikipedia.org/wiki/Box_plot\n",
    "* https://www.stat.berkeley.edu/~brill/Papers/EDASage.pdf pp.(530-533)"
   ]
  }
 ],
 "metadata": {
  "kernelspec": {
   "display_name": "Python 3",
   "language": "python",
   "name": "python3"
  },
  "language_info": {
   "codemirror_mode": {
    "name": "ipython",
    "version": 3
   },
   "file_extension": ".py",
   "mimetype": "text/x-python",
   "name": "python",
   "nbconvert_exporter": "python",
   "pygments_lexer": "ipython3",
   "version": "3.6.5"
  }
 },
 "nbformat": 4,
 "nbformat_minor": 2
}
