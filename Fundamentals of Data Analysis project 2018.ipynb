{
 "cells": [
  {
   "cell_type": "markdown",
   "metadata": {},
   "source": [
    "### Fundamentals of Data Analysis project 2018\n",
    "\n",
    "### Patrick McDonald G00281051\n",
    "\n",
    "#### Problem statement\n",
    "\n",
    "The box plot is common in data analysis for investigating individual numerical variables. In this project, you will investigate and explain box plots and their uses. The boxplot function from the Python package matplotlib.pyplot can be used to create box plots. Your submission should be in the form of a repository containing a Jupyter notebook in which you detail your findings. In your notebook, you should:\n",
    "\n",
    "1. Summarise the history of the box plot and situations in which it used.\n",
    "2. Demonstrate the use of the box plot using data of your choosing.\n",
    "3. Explain any relevant terminology such as the terms quartile and percentile. \n",
    "4. Compare the box plot to alternatives.\n"
   ]
  },
  {
   "cell_type": "markdown",
   "metadata": {},
   "source": [
    "#### 1. Summarise the history of the box plot and situations in which it used\n",
    "\n",
    "Quartiles\n",
    "\n",
    "Whiskers, Outliers\n",
    "\n",
    "Tukey 1969"
   ]
  },
  {
   "cell_type": "markdown",
   "metadata": {},
   "source": [
    "#### 2. Demonstrate the use of the box plot using data of your choosing.\n",
    "\n",
    "Using matplotlib.boxplot, What data to use?"
   ]
  },
  {
   "cell_type": "markdown",
   "metadata": {},
   "source": [
    "#### 3. Explain any relevant terminology such as the terms quartile and percentile. \n",
    "\n",
    "Quartile examples\n",
    "Percentile examples\n",
    "any other jargon - whiskers, outliers.."
   ]
  },
  {
   "cell_type": "markdown",
   "metadata": {},
   "source": [
    "#### 4. Compare the box plot to alternatives."
   ]
  }
 ],
 "metadata": {
  "kernelspec": {
   "display_name": "Python 3",
   "language": "python",
   "name": "python3"
  },
  "language_info": {
   "codemirror_mode": {
    "name": "ipython",
    "version": 3
   },
   "file_extension": ".py",
   "mimetype": "text/x-python",
   "name": "python",
   "nbconvert_exporter": "python",
   "pygments_lexer": "ipython3",
   "version": "3.6.5"
  }
 },
 "nbformat": 4,
 "nbformat_minor": 2
}
